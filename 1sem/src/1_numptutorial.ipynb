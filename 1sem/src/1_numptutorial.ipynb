{
 "cells": [
  {
   "cell_type": "markdown",
   "id": "26bf6620-acfb-47f2-acb9-cea704638848",
   "metadata": {},
   "source": [
    "# numpy fast tutorial"
   ]
  },
  {
   "cell_type": "code",
   "execution_count": 1,
   "id": "028da7ad-ef8c-493a-9ef5-e8a7b7c2e7a4",
   "metadata": {},
   "outputs": [],
   "source": [
    "import numpy as np"
   ]
  },
  {
   "cell_type": "code",
   "execution_count": 3,
   "id": "73516ab6-41e0-495d-8128-4780ad430d19",
   "metadata": {},
   "outputs": [
    {
     "name": "stdout",
     "output_type": "stream",
     "text": [
      "[[1 2]\n",
      " [3 4]\n",
      " [5 6]\n",
      " [7 8]]\n",
      "8\n",
      "[3 4]\n"
     ]
    }
   ],
   "source": [
    "x = np.array([[1, 2], [3, 4],[5, 6], [7, 8]])\n",
    "print(x)\n",
    "print(x[3][1])\n",
    "print(x[1])"
   ]
  },
  {
   "cell_type": "code",
   "execution_count": 4,
   "id": "18b3d9fa-b19e-41a8-8a8f-6437f4d397a6",
   "metadata": {},
   "outputs": [
    {
     "name": "stdout",
     "output_type": "stream",
     "text": [
      "[0. 0. 0. 0. 0. 0. 0. 0. 0. 0.] \n",
      " [1. 1. 1. 1. 1. 1. 1. 1. 1. 1.] \n",
      " [5 5 5 5 5 5 5 5 5 5] \n",
      " [10 11 12 13 14 15 16 17 18 19]\n"
     ]
    }
   ],
   "source": [
    "a = np.zeros(10)\n",
    "b = np.ones(10)\n",
    "c = np.full(10, 5)\n",
    "d = np.arange(10, 20)\n",
    "print(a, \"\\n\", b, \"\\n\", c, \"\\n\", d)"
   ]
  },
  {
   "cell_type": "code",
   "execution_count": 13,
   "id": "8eca75cd-0bf5-4f0a-ab32-5c2e79e8ddaf",
   "metadata": {},
   "outputs": [
    {
     "name": "stdout",
     "output_type": "stream",
     "text": [
      "[[0.28096964 0.06004366 0.20992832 0.75932666 0.67784197 0.58361786\n",
      "  0.88658484 0.71912684 0.78979891 0.46162299]\n",
      " [0.97667214 0.3689551  0.39848762 0.75582845 0.51491788 0.95554649\n",
      "  0.3072814  0.65112576 0.15015562 0.88793037]\n",
      " [0.24940723 0.84728963 0.29093794 0.43658263 0.68291086 0.01510025\n",
      "  0.10089454 0.0852359  0.61513296 0.63522127]\n",
      " [0.14786877 0.70513257 0.12785211 0.72378057 0.06409383 0.64341836\n",
      "  0.96195439 0.27310421 0.03922872 0.53209212]\n",
      " [0.61730987 0.69536013 0.66546048 0.49332669 0.0501125  0.5281498\n",
      "  0.71572293 0.26598596 0.37447952 0.0244901 ]\n",
      " [0.02899652 0.15590038 0.87467205 0.6406044  0.09157425 0.68821545\n",
      "  0.5016503  0.91205951 0.21237471 0.29444785]\n",
      " [0.72955616 0.80681083 0.55067189 0.408118   0.72848727 0.0115167\n",
      "  0.25865325 0.42804497 0.07927187 0.95421824]\n",
      " [0.23111521 0.81738213 0.83304028 0.33911449 0.98882975 0.70555408\n",
      "  0.00313934 0.16320274 0.82575275 0.19210851]\n",
      " [0.2165468  0.22661903 0.63731946 0.33643806 0.17423061 0.9018967\n",
      "  0.23657576 0.43758769 0.58305163 0.9567628 ]\n",
      " [0.16491911 0.92175161 0.2817102  0.49100587 0.37074306 0.84870036\n",
      "  0.65166108 0.2536803  0.66211866 0.26384391]]\n",
      "0.003139338323936758 0.9888297507702716 0.48075645943097345\n"
     ]
    }
   ],
   "source": [
    "# матрица 10 на 10 \n",
    "Z = с\n",
    "print(Z)\n",
    "zmin, zmax, zmean = Z.min(), Z.max(), Z.mean()\n",
    "print(zmin, zmax, zmean)"
   ]
  },
  {
   "cell_type": "code",
   "execution_count": 148,
   "id": "a6a4b49a-c9e4-41f7-8858-2c0e90b489f2",
   "metadata": {},
   "outputs": [
    {
     "name": "stdout",
     "output_type": "stream",
     "text": [
      "[[0 1 2 3 4]]\n"
     ]
    }
   ],
   "source": [
    "A = np.arange(25) \n",
    "# print(A)\n",
    "A = A.reshape(5, 5) # модификация в 5 на 5, должно быть кратно 5\n",
    "# print(A)\n",
    "A[[0, 1]] = A[[1, 0]]\n",
    "# print(A)\n"
   ]
  },
  {
   "cell_type": "code",
   "execution_count": 38,
   "id": "a62ec4fc-79e1-438d-90b0-097e10e5e38f",
   "metadata": {},
   "outputs": [
    {
     "name": "stdout",
     "output_type": "stream",
     "text": [
      "nan\n",
      "False\n",
      "False\n",
      "nan\n",
      "False\n",
      "0.30000000000000004\n",
      "0.3\n"
     ]
    }
   ],
   "source": [
    "print(0*np.nan)\n",
    "print(np.nan==np.nan)\n",
    "print(np.inf > np.nan)\n",
    "print(np.nan - np.nan)\n",
    "print(0.3 == 3*0.1)\n",
    "print(3*0.1) \n",
    "print(3/10)"
   ]
  },
  {
   "cell_type": "code",
   "execution_count": 44,
   "id": "263d470d-0dc4-4dd4-8f9b-e6a31e3896f7",
   "metadata": {},
   "outputs": [
    {
     "name": "stdout",
     "output_type": "stream",
     "text": [
      "[  5   8  39  44  51  55  59  65  97 100]\n"
     ]
    }
   ],
   "source": [
    "from random import randint\n",
    "arr = np.array([randint(0, 100) for i in range(10)])\n",
    "print(np.sort(arr))"
   ]
  },
  {
   "cell_type": "code",
   "execution_count": 112,
   "id": "6093bbe6-7d80-424a-9aee-6d841f3a6131",
   "metadata": {},
   "outputs": [
    {
     "name": "stdout",
     "output_type": "stream",
     "text": [
      "[[0 1 0 1 0 1 0 1]\n",
      " [1 0 1 0 1 0 1 0]\n",
      " [0 1 0 1 0 1 0 1]\n",
      " [1 0 1 0 1 0 1 0]\n",
      " [0 1 0 1 0 1 0 1]\n",
      " [1 0 1 0 1 0 1 0]\n",
      " [0 1 0 1 0 1 0 1]\n",
      " [1 0 1 0 1 0 1 0]]\n"
     ]
    }
   ],
   "source": [
    "# 1.3.1\n",
    "# заполнили массив 8 на 8 нулями \n",
    "arr = np.zeros((8,8),dtype=int)\n",
    "# каждый 2 массив начиная с первого каждый 2 элемент = 1\n",
    "arr[1::2,::2] = 1 \n",
    "# каждый 2 массив начиная с нулевого каждый 2 элемент начиная с первого = 1\n",
    "arr[::2,1::2] = 1\n",
    "print(arr)"
   ]
  },
  {
   "cell_type": "code",
   "execution_count": 126,
   "id": "4b793b60-f51b-4bda-81a1-e39e97f478ea",
   "metadata": {},
   "outputs": [
    {
     "data": {
      "text/plain": [
       "array([[0, 1, 2, 3, 4],\n",
       "       [0, 1, 2, 3, 4],\n",
       "       [0, 1, 2, 3, 4],\n",
       "       [0, 1, 2, 3, 4],\n",
       "       [0, 1, 2, 3, 4]])"
      ]
     },
     "execution_count": 126,
     "metadata": {},
     "output_type": "execute_result"
    }
   ],
   "source": [
    "# 1.3.2\n",
    "np.full((5,5), np.arange(5))"
   ]
  },
  {
   "cell_type": "code",
   "execution_count": 128,
   "id": "c353277a-6d0b-480b-961e-e17e99b556fe",
   "metadata": {},
   "outputs": [
    {
     "data": {
      "text/plain": [
       "array([[[0.20109083, 0.57820445, 0.38111258],\n",
       "        [0.89391493, 0.99417227, 0.43350802],\n",
       "        [0.67402613, 0.59880944, 0.36270216]],\n",
       "\n",
       "       [[0.19821451, 0.16660697, 0.6189914 ],\n",
       "        [0.16561335, 0.58988393, 0.46499917],\n",
       "        [0.88734369, 0.05930892, 0.18737471]],\n",
       "\n",
       "       [[0.69262855, 0.58137772, 0.24960278],\n",
       "        [0.1891505 , 0.79727063, 0.23667364],\n",
       "        [0.29907306, 0.66670825, 0.69498337]]])"
      ]
     },
     "execution_count": 128,
     "metadata": {},
     "output_type": "execute_result"
    }
   ],
   "source": [
    "# 1.3.3\n",
    "np.random.random((3, 3, 3))"
   ]
  },
  {
   "cell_type": "code",
   "execution_count": 136,
   "id": "5f0d97cc-8ac2-4d61-8eb2-cefe5419a6d1",
   "metadata": {},
   "outputs": [
    {
     "name": "stdout",
     "output_type": "stream",
     "text": [
      "[[1 0 1]\n",
      " [1 0 1]\n",
      " [1 0 1]]\n"
     ]
    }
   ],
   "source": [
    "# 1.3.4\n",
    "arr=np.ones((3, 3), dtype=int)\n",
    "arr[::1, 1] = 0\n",
    "print(arr)"
   ]
  },
  {
   "cell_type": "code",
   "execution_count": 137,
   "id": "faa81162-d66a-43f0-984e-4f65dccc488a",
   "metadata": {},
   "outputs": [
    {
     "name": "stdout",
     "output_type": "stream",
     "text": [
      "[95 90 80 34 34 33 22 12  5  1]\n"
     ]
    }
   ],
   "source": [
    "# 1.3.5\n",
    "arr = np.array([randint(0, 100) for i in range(10)])\n",
    "print(np.sort(arr)[::-1])"
   ]
  },
  {
   "cell_type": "code",
   "execution_count": 163,
   "id": "76371140-bd14-41a8-a49b-381f5d9d97e2",
   "metadata": {},
   "outputs": [
    {
     "name": "stdout",
     "output_type": "stream",
     "text": [
      "[[1 1 1]\n",
      " [1 1 1]\n",
      " [1 1 1]]\n",
      "2\n",
      "(3, 3)\n",
      "9\n",
      "int64\n",
      "8\n",
      "<memory at 0x7f347c73e8e0>\n"
     ]
    }
   ],
   "source": [
    "# 1.3.6\n",
    "arr=np.ones((3, 3), dtype=int)\n",
    "print(arr)\n",
    "# число измерений (оси массива) ndarray.ndim\n",
    "print(arr.ndim) # [[],[]]=2, [ [ [],[] ], [ [],[] ] ]=3\n",
    "# форма (размеры массива) ndarray.shape\n",
    "print(arr.shape)\n",
    "# размер ndarray.size \n",
    "print(arr.size)\n",
    "# тип элементов массива ndarray.dtype\n",
    "print(arr.dtype)\n",
    "# ndarray.itemsize - размер каждого элемента массива в байтах.\n",
    "print(arr.itemsize)\n",
    "# ndarray.data - буфер, содержащий фактические элементы массива.\n",
    "print(arr.data)"
   ]
  }
 ],
 "metadata": {
  "kernelspec": {
   "display_name": "Python 3 (ipykernel)",
   "language": "python",
   "name": "python3"
  },
  "language_info": {
   "codemirror_mode": {
    "name": "ipython",
    "version": 3
   },
   "file_extension": ".py",
   "mimetype": "text/x-python",
   "name": "python",
   "nbconvert_exporter": "python",
   "pygments_lexer": "ipython3",
   "version": "3.11.7"
  }
 },
 "nbformat": 4,
 "nbformat_minor": 5
}
